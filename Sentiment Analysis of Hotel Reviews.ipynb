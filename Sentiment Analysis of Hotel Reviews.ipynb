{
 "cells": [
  {
   "cell_type": "code",
   "execution_count": 1,
   "metadata": {
    "id": "qe9qtwpbuyQv"
   },
   "outputs": [],
   "source": [
    "# importing data\n",
    "import pandas as pd\n",
    "data = pd.read_csv('G:/Projects/Sentiment Analysis of Hotel Reviews/train.csv')"
   ]
  },
  {
   "cell_type": "code",
   "execution_count": 2,
   "metadata": {
    "colab": {
     "base_uri": "https://localhost:8080/"
    },
    "id": "O1EsN5Mqu2r7",
    "outputId": "4b82262e-fda4-4fb8-be62-75551277749f"
   },
   "outputs": [
    {
     "data": {
      "text/plain": [
       "(38932, 5)"
      ]
     },
     "execution_count": 2,
     "metadata": {},
     "output_type": "execute_result"
    }
   ],
   "source": [
    "#Describing the data by its shape information\n",
    "data.shape"
   ]
  },
  {
   "cell_type": "code",
   "execution_count": 3,
   "metadata": {
    "colab": {
     "base_uri": "https://localhost:8080/",
     "height": 206
    },
    "id": "XMF99sJ8u4Dk",
    "outputId": "06520a06-2818-4b30-b662-aca0a98e022d"
   },
   "outputs": [
    {
     "data": {
      "text/html": [
       "<div>\n",
       "<style scoped>\n",
       "    .dataframe tbody tr th:only-of-type {\n",
       "        vertical-align: middle;\n",
       "    }\n",
       "\n",
       "    .dataframe tbody tr th {\n",
       "        vertical-align: top;\n",
       "    }\n",
       "\n",
       "    .dataframe thead th {\n",
       "        text-align: right;\n",
       "    }\n",
       "</style>\n",
       "<table border=\"1\" class=\"dataframe\">\n",
       "  <thead>\n",
       "    <tr style=\"text-align: right;\">\n",
       "      <th></th>\n",
       "      <th>User_ID</th>\n",
       "      <th>Description</th>\n",
       "      <th>Browser_Used</th>\n",
       "      <th>Device_Used</th>\n",
       "      <th>Is_Response</th>\n",
       "    </tr>\n",
       "  </thead>\n",
       "  <tbody>\n",
       "    <tr>\n",
       "      <th>0</th>\n",
       "      <td>id10326</td>\n",
       "      <td>The room was kind of clean but had a VERY stro...</td>\n",
       "      <td>Edge</td>\n",
       "      <td>Mobile</td>\n",
       "      <td>not happy</td>\n",
       "    </tr>\n",
       "    <tr>\n",
       "      <th>1</th>\n",
       "      <td>id10327</td>\n",
       "      <td>I stayed at the Crown Plaza April -- - April -...</td>\n",
       "      <td>Internet Explorer</td>\n",
       "      <td>Mobile</td>\n",
       "      <td>not happy</td>\n",
       "    </tr>\n",
       "    <tr>\n",
       "      <th>2</th>\n",
       "      <td>id10328</td>\n",
       "      <td>I booked this hotel through Hotwire at the low...</td>\n",
       "      <td>Mozilla</td>\n",
       "      <td>Tablet</td>\n",
       "      <td>not happy</td>\n",
       "    </tr>\n",
       "    <tr>\n",
       "      <th>3</th>\n",
       "      <td>id10329</td>\n",
       "      <td>Stayed here with husband and sons on the way t...</td>\n",
       "      <td>InternetExplorer</td>\n",
       "      <td>Desktop</td>\n",
       "      <td>happy</td>\n",
       "    </tr>\n",
       "    <tr>\n",
       "      <th>4</th>\n",
       "      <td>id10330</td>\n",
       "      <td>My girlfriends and I stayed here to celebrate ...</td>\n",
       "      <td>Edge</td>\n",
       "      <td>Tablet</td>\n",
       "      <td>not happy</td>\n",
       "    </tr>\n",
       "  </tbody>\n",
       "</table>\n",
       "</div>"
      ],
      "text/plain": [
       "   User_ID                                        Description  \\\n",
       "0  id10326  The room was kind of clean but had a VERY stro...   \n",
       "1  id10327  I stayed at the Crown Plaza April -- - April -...   \n",
       "2  id10328  I booked this hotel through Hotwire at the low...   \n",
       "3  id10329  Stayed here with husband and sons on the way t...   \n",
       "4  id10330  My girlfriends and I stayed here to celebrate ...   \n",
       "\n",
       "        Browser_Used Device_Used Is_Response  \n",
       "0               Edge      Mobile   not happy  \n",
       "1  Internet Explorer      Mobile   not happy  \n",
       "2            Mozilla      Tablet   not happy  \n",
       "3   InternetExplorer     Desktop       happy  \n",
       "4               Edge      Tablet   not happy  "
      ]
     },
     "execution_count": 3,
     "metadata": {},
     "output_type": "execute_result"
    }
   ],
   "source": [
    "data.head()"
   ]
  },
  {
   "cell_type": "code",
   "execution_count": 4,
   "metadata": {
    "colab": {
     "base_uri": "https://localhost:8080/"
    },
    "id": "V0_gKBCDu540",
    "outputId": "dbb4f487-6b64-4e4d-bc12-6bb523ac1076"
   },
   "outputs": [
    {
     "name": "stdout",
     "output_type": "stream",
     "text": [
      "<class 'pandas.core.frame.DataFrame'>\n",
      "RangeIndex: 38932 entries, 0 to 38931\n",
      "Data columns (total 5 columns):\n",
      " #   Column        Non-Null Count  Dtype \n",
      "---  ------        --------------  ----- \n",
      " 0   User_ID       38932 non-null  object\n",
      " 1   Description   38932 non-null  object\n",
      " 2   Browser_Used  38932 non-null  object\n",
      " 3   Device_Used   38932 non-null  object\n",
      " 4   Is_Response   38932 non-null  object\n",
      "dtypes: object(5)\n",
      "memory usage: 1.5+ MB\n"
     ]
    }
   ],
   "source": [
    "data.info()"
   ]
  },
  {
   "cell_type": "code",
   "execution_count": 5,
   "metadata": {
    "colab": {
     "base_uri": "https://localhost:8080/",
     "height": 206
    },
    "id": "Kqe8GuvZu74p",
    "outputId": "242eee7d-021b-4678-e03f-051c9407cae2"
   },
   "outputs": [
    {
     "data": {
      "text/html": [
       "<div>\n",
       "<style scoped>\n",
       "    .dataframe tbody tr th:only-of-type {\n",
       "        vertical-align: middle;\n",
       "    }\n",
       "\n",
       "    .dataframe tbody tr th {\n",
       "        vertical-align: top;\n",
       "    }\n",
       "\n",
       "    .dataframe thead th {\n",
       "        text-align: right;\n",
       "    }\n",
       "</style>\n",
       "<table border=\"1\" class=\"dataframe\">\n",
       "  <thead>\n",
       "    <tr style=\"text-align: right;\">\n",
       "      <th></th>\n",
       "      <th>count</th>\n",
       "      <th>unique</th>\n",
       "      <th>top</th>\n",
       "      <th>freq</th>\n",
       "    </tr>\n",
       "  </thead>\n",
       "  <tbody>\n",
       "    <tr>\n",
       "      <th>User_ID</th>\n",
       "      <td>38932</td>\n",
       "      <td>38932</td>\n",
       "      <td>id10326</td>\n",
       "      <td>1</td>\n",
       "    </tr>\n",
       "    <tr>\n",
       "      <th>Description</th>\n",
       "      <td>38932</td>\n",
       "      <td>38932</td>\n",
       "      <td>The room was kind of clean but had a VERY stro...</td>\n",
       "      <td>1</td>\n",
       "    </tr>\n",
       "    <tr>\n",
       "      <th>Browser_Used</th>\n",
       "      <td>38932</td>\n",
       "      <td>11</td>\n",
       "      <td>Firefox</td>\n",
       "      <td>7367</td>\n",
       "    </tr>\n",
       "    <tr>\n",
       "      <th>Device_Used</th>\n",
       "      <td>38932</td>\n",
       "      <td>3</td>\n",
       "      <td>Desktop</td>\n",
       "      <td>15026</td>\n",
       "    </tr>\n",
       "    <tr>\n",
       "      <th>Is_Response</th>\n",
       "      <td>38932</td>\n",
       "      <td>2</td>\n",
       "      <td>happy</td>\n",
       "      <td>26521</td>\n",
       "    </tr>\n",
       "  </tbody>\n",
       "</table>\n",
       "</div>"
      ],
      "text/plain": [
       "              count unique                                                top  \\\n",
       "User_ID       38932  38932                                            id10326   \n",
       "Description   38932  38932  The room was kind of clean but had a VERY stro...   \n",
       "Browser_Used  38932     11                                            Firefox   \n",
       "Device_Used   38932      3                                            Desktop   \n",
       "Is_Response   38932      2                                              happy   \n",
       "\n",
       "               freq  \n",
       "User_ID           1  \n",
       "Description       1  \n",
       "Browser_Used   7367  \n",
       "Device_Used   15026  \n",
       "Is_Response   26521  "
      ]
     },
     "execution_count": 5,
     "metadata": {},
     "output_type": "execute_result"
    }
   ],
   "source": [
    "data.describe().transpose()"
   ]
  },
  {
   "cell_type": "code",
   "execution_count": 6,
   "metadata": {
    "colab": {
     "base_uri": "https://localhost:8080/",
     "height": 224
    },
    "id": "KEh01BP1u9pW",
    "outputId": "00350137-28ed-49a0-9cb8-6b2a5bca1e5e"
   },
   "outputs": [
    {
     "name": "stdout",
     "output_type": "stream",
     "text": [
      "Count and percentage of missing values for the columns:\n"
     ]
    },
    {
     "data": {
      "text/html": [
       "<div>\n",
       "<style scoped>\n",
       "    .dataframe tbody tr th:only-of-type {\n",
       "        vertical-align: middle;\n",
       "    }\n",
       "\n",
       "    .dataframe tbody tr th {\n",
       "        vertical-align: top;\n",
       "    }\n",
       "\n",
       "    .dataframe thead th {\n",
       "        text-align: right;\n",
       "    }\n",
       "</style>\n",
       "<table border=\"1\" class=\"dataframe\">\n",
       "  <thead>\n",
       "    <tr style=\"text-align: right;\">\n",
       "      <th></th>\n",
       "      <th>Count</th>\n",
       "      <th>Percentage</th>\n",
       "    </tr>\n",
       "  </thead>\n",
       "  <tbody>\n",
       "    <tr>\n",
       "      <th>User_ID</th>\n",
       "      <td>0</td>\n",
       "      <td>0.0</td>\n",
       "    </tr>\n",
       "    <tr>\n",
       "      <th>Description</th>\n",
       "      <td>0</td>\n",
       "      <td>0.0</td>\n",
       "    </tr>\n",
       "    <tr>\n",
       "      <th>Browser_Used</th>\n",
       "      <td>0</td>\n",
       "      <td>0.0</td>\n",
       "    </tr>\n",
       "    <tr>\n",
       "      <th>Device_Used</th>\n",
       "      <td>0</td>\n",
       "      <td>0.0</td>\n",
       "    </tr>\n",
       "    <tr>\n",
       "      <th>Is_Response</th>\n",
       "      <td>0</td>\n",
       "      <td>0.0</td>\n",
       "    </tr>\n",
       "  </tbody>\n",
       "</table>\n",
       "</div>"
      ],
      "text/plain": [
       "              Count  Percentage\n",
       "User_ID           0         0.0\n",
       "Description       0         0.0\n",
       "Browser_Used      0         0.0\n",
       "Device_Used       0         0.0\n",
       "Is_Response       0         0.0"
      ]
     },
     "execution_count": 6,
     "metadata": {},
     "output_type": "execute_result"
    }
   ],
   "source": [
    "### Checking Missing values in the Data Set and printing the Percentage for Missing Values for Each Columns ###\n",
    "\n",
    "count = data.isnull().sum().sort_values(ascending=False)\n",
    "percentage = ((data.isnull().sum()/len(data)*100)).sort_values(ascending=False)\n",
    "missing_data = pd.concat([count, percentage], axis=1,\n",
    "keys=['Count','Percentage'])\n",
    "\n",
    "print('Count and percentage of missing values for the columns:')\n",
    "\n",
    "missing_data"
   ]
  },
  {
   "cell_type": "code",
   "execution_count": 7,
   "metadata": {
    "colab": {
     "base_uri": "https://localhost:8080/",
     "height": 637
    },
    "id": "RMk4CT2Vu_nO",
    "outputId": "f27c74e1-14fb-4b2b-b2a5-8b0ee940a53e"
   },
   "outputs": [
    {
     "name": "stdout",
     "output_type": "stream",
     "text": [
      "Percentage for default\n",
      "\n",
      "happy        68.12\n",
      "not happy    31.88\n",
      "Name: Is_Response, dtype: float64\n"
     ]
    },
    {
     "data": {
      "image/png": "[encoded data removed]",
      "text/plain": [
       "<Figure size 640x480 with 1 Axes>"
      ]
     },
     "metadata": {},
     "output_type": "display_data"
    }
   ],
   "source": [
    "### Checking for the Distribution of Default ###\n",
    "import matplotlib.pyplot as plt\n",
    "%matplotlib inline\n",
    "print('Percentage for default\\n')\n",
    "print(round(data.Is_Response.value_counts(normalize=True)*100,2))\n",
    "round(data.Is_Response.value_counts(normalize=True)*100,2).plot(kind='bar')\n",
    "plt.title('Percentage Distributions by review type')\n",
    "plt.show()"
   ]
  },
  {
   "cell_type": "code",
   "execution_count": 8,
   "metadata": {
    "id": "1I4z68UpvCNj"
   },
   "outputs": [],
   "source": [
    "#Removing columns\n",
    "data.drop(columns = ['User_ID', 'Browser_Used', 'Device_Used'], inplace = True)"
   ]
  },
  {
   "cell_type": "code",
   "execution_count": 9,
   "metadata": {
    "id": "F-G1Y2rBvEuf"
   },
   "outputs": [],
   "source": [
    "# Apply first level cleaning\n",
    "import re\n",
    "import string\n",
    "\n",
    "#This function converts to lower-case, removes square bracket, removes numbers and punctuation\n",
    "def text_clean_1(text):\n",
    "    text = text.lower()\n",
    "    text = re.sub('\\[.*?\\]', '', text)\n",
    "    text = re.sub('[%s]' % re.escape(string.punctuation), '', text)\n",
    "    text = re.sub('\\w*\\d\\w*', '', text)\n",
    "    return text\n",
    "\n",
    "cleaned1 = lambda x: text_clean_1(x)"
   ]
  },
  {
   "cell_type": "code",
   "execution_count": 10,
   "metadata": {
    "colab": {
     "base_uri": "https://localhost:8080/",
     "height": 363
    },
    "id": "efWe9Q8svGvF",
    "outputId": "71a52703-3ffc-4ed3-847e-9584fde5a884"
   },
   "outputs": [
    {
     "data": {
      "text/html": [
       "<div>\n",
       "<style scoped>\n",
       "    .dataframe tbody tr th:only-of-type {\n",
       "        vertical-align: middle;\n",
       "    }\n",
       "\n",
       "    .dataframe tbody tr th {\n",
       "        vertical-align: top;\n",
       "    }\n",
       "\n",
       "    .dataframe thead th {\n",
       "        text-align: right;\n",
       "    }\n",
       "</style>\n",
       "<table border=\"1\" class=\"dataframe\">\n",
       "  <thead>\n",
       "    <tr style=\"text-align: right;\">\n",
       "      <th></th>\n",
       "      <th>Description</th>\n",
       "      <th>Is_Response</th>\n",
       "      <th>cleaned_description</th>\n",
       "    </tr>\n",
       "  </thead>\n",
       "  <tbody>\n",
       "    <tr>\n",
       "      <th>0</th>\n",
       "      <td>The room was kind of clean but had a VERY stro...</td>\n",
       "      <td>not happy</td>\n",
       "      <td>the room was kind of clean but had a very stro...</td>\n",
       "    </tr>\n",
       "    <tr>\n",
       "      <th>1</th>\n",
       "      <td>I stayed at the Crown Plaza April -- - April -...</td>\n",
       "      <td>not happy</td>\n",
       "      <td>i stayed at the crown plaza april   april   th...</td>\n",
       "    </tr>\n",
       "    <tr>\n",
       "      <th>2</th>\n",
       "      <td>I booked this hotel through Hotwire at the low...</td>\n",
       "      <td>not happy</td>\n",
       "      <td>i booked this hotel through hotwire at the low...</td>\n",
       "    </tr>\n",
       "    <tr>\n",
       "      <th>3</th>\n",
       "      <td>Stayed here with husband and sons on the way t...</td>\n",
       "      <td>happy</td>\n",
       "      <td>stayed here with husband and sons on the way t...</td>\n",
       "    </tr>\n",
       "    <tr>\n",
       "      <th>4</th>\n",
       "      <td>My girlfriends and I stayed here to celebrate ...</td>\n",
       "      <td>not happy</td>\n",
       "      <td>my girlfriends and i stayed here to celebrate ...</td>\n",
       "    </tr>\n",
       "    <tr>\n",
       "      <th>5</th>\n",
       "      <td>We had - rooms. One was very nice and clearly ...</td>\n",
       "      <td>happy</td>\n",
       "      <td>we had  rooms one was very nice and clearly ha...</td>\n",
       "    </tr>\n",
       "    <tr>\n",
       "      <th>6</th>\n",
       "      <td>My husband and I have stayed in this hotel a f...</td>\n",
       "      <td>not happy</td>\n",
       "      <td>my husband and i have stayed in this hotel a f...</td>\n",
       "    </tr>\n",
       "    <tr>\n",
       "      <th>7</th>\n",
       "      <td>My wife &amp; I stayed in this glorious city a whi...</td>\n",
       "      <td>happy</td>\n",
       "      <td>my wife  i stayed in this glorious city a whil...</td>\n",
       "    </tr>\n",
       "    <tr>\n",
       "      <th>8</th>\n",
       "      <td>My boyfriend and I stayed at the Fairmont on a...</td>\n",
       "      <td>happy</td>\n",
       "      <td>my boyfriend and i stayed at the fairmont on a...</td>\n",
       "    </tr>\n",
       "    <tr>\n",
       "      <th>9</th>\n",
       "      <td>Wonderful staff, great location, but it was de...</td>\n",
       "      <td>not happy</td>\n",
       "      <td>wonderful staff great location but it was defi...</td>\n",
       "    </tr>\n",
       "  </tbody>\n",
       "</table>\n",
       "</div>"
      ],
      "text/plain": [
       "                                         Description Is_Response  \\\n",
       "0  The room was kind of clean but had a VERY stro...   not happy   \n",
       "1  I stayed at the Crown Plaza April -- - April -...   not happy   \n",
       "2  I booked this hotel through Hotwire at the low...   not happy   \n",
       "3  Stayed here with husband and sons on the way t...       happy   \n",
       "4  My girlfriends and I stayed here to celebrate ...   not happy   \n",
       "5  We had - rooms. One was very nice and clearly ...       happy   \n",
       "6  My husband and I have stayed in this hotel a f...   not happy   \n",
       "7  My wife & I stayed in this glorious city a whi...       happy   \n",
       "8  My boyfriend and I stayed at the Fairmont on a...       happy   \n",
       "9  Wonderful staff, great location, but it was de...   not happy   \n",
       "\n",
       "                                 cleaned_description  \n",
       "0  the room was kind of clean but had a very stro...  \n",
       "1  i stayed at the crown plaza april   april   th...  \n",
       "2  i booked this hotel through hotwire at the low...  \n",
       "3  stayed here with husband and sons on the way t...  \n",
       "4  my girlfriends and i stayed here to celebrate ...  \n",
       "5  we had  rooms one was very nice and clearly ha...  \n",
       "6  my husband and i have stayed in this hotel a f...  \n",
       "7  my wife  i stayed in this glorious city a whil...  \n",
       "8  my boyfriend and i stayed at the fairmont on a...  \n",
       "9  wonderful staff great location but it was defi...  "
      ]
     },
     "execution_count": 10,
     "metadata": {},
     "output_type": "execute_result"
    }
   ],
   "source": [
    "# Let's take a look at the updated text\n",
    "data['cleaned_description'] = pd.DataFrame(data.Description.apply(cleaned1))\n",
    "data.head(10)"
   ]
  },
  {
   "cell_type": "code",
   "execution_count": 11,
   "metadata": {
    "id": "G_FZ3WzdvKbA"
   },
   "outputs": [],
   "source": [
    "# Apply a second round of cleaning\n",
    "def text_clean_2(text):\n",
    "    text = re.sub('[‘’“”…]', '', text)\n",
    "    text = re.sub('\\n', '', text)\n",
    "    return text\n",
    "\n",
    "cleaned2 = lambda x: text_clean_2(x)"
   ]
  },
  {
   "cell_type": "code",
   "execution_count": 12,
   "metadata": {
    "colab": {
     "base_uri": "https://localhost:8080/",
     "height": 501
    },
    "id": "pLnznmA8vMRw",
    "outputId": "943da63e-85b3-48f5-c985-c33b3194e450"
   },
   "outputs": [
    {
     "data": {
      "text/html": [
       "<div>\n",
       "<style scoped>\n",
       "    .dataframe tbody tr th:only-of-type {\n",
       "        vertical-align: middle;\n",
       "    }\n",
       "\n",
       "    .dataframe tbody tr th {\n",
       "        vertical-align: top;\n",
       "    }\n",
       "\n",
       "    .dataframe thead th {\n",
       "        text-align: right;\n",
       "    }\n",
       "</style>\n",
       "<table border=\"1\" class=\"dataframe\">\n",
       "  <thead>\n",
       "    <tr style=\"text-align: right;\">\n",
       "      <th></th>\n",
       "      <th>Description</th>\n",
       "      <th>Is_Response</th>\n",
       "      <th>cleaned_description</th>\n",
       "      <th>cleaned_description_new</th>\n",
       "    </tr>\n",
       "  </thead>\n",
       "  <tbody>\n",
       "    <tr>\n",
       "      <th>0</th>\n",
       "      <td>The room was kind of clean but had a VERY stro...</td>\n",
       "      <td>not happy</td>\n",
       "      <td>the room was kind of clean but had a very stro...</td>\n",
       "      <td>the room was kind of clean but had a very stro...</td>\n",
       "    </tr>\n",
       "    <tr>\n",
       "      <th>1</th>\n",
       "      <td>I stayed at the Crown Plaza April -- - April -...</td>\n",
       "      <td>not happy</td>\n",
       "      <td>i stayed at the crown plaza april   april   th...</td>\n",
       "      <td>i stayed at the crown plaza april   april   th...</td>\n",
       "    </tr>\n",
       "    <tr>\n",
       "      <th>2</th>\n",
       "      <td>I booked this hotel through Hotwire at the low...</td>\n",
       "      <td>not happy</td>\n",
       "      <td>i booked this hotel through hotwire at the low...</td>\n",
       "      <td>i booked this hotel through hotwire at the low...</td>\n",
       "    </tr>\n",
       "    <tr>\n",
       "      <th>3</th>\n",
       "      <td>Stayed here with husband and sons on the way t...</td>\n",
       "      <td>happy</td>\n",
       "      <td>stayed here with husband and sons on the way t...</td>\n",
       "      <td>stayed here with husband and sons on the way t...</td>\n",
       "    </tr>\n",
       "    <tr>\n",
       "      <th>4</th>\n",
       "      <td>My girlfriends and I stayed here to celebrate ...</td>\n",
       "      <td>not happy</td>\n",
       "      <td>my girlfriends and i stayed here to celebrate ...</td>\n",
       "      <td>my girlfriends and i stayed here to celebrate ...</td>\n",
       "    </tr>\n",
       "    <tr>\n",
       "      <th>5</th>\n",
       "      <td>We had - rooms. One was very nice and clearly ...</td>\n",
       "      <td>happy</td>\n",
       "      <td>we had  rooms one was very nice and clearly ha...</td>\n",
       "      <td>we had  rooms one was very nice and clearly ha...</td>\n",
       "    </tr>\n",
       "    <tr>\n",
       "      <th>6</th>\n",
       "      <td>My husband and I have stayed in this hotel a f...</td>\n",
       "      <td>not happy</td>\n",
       "      <td>my husband and i have stayed in this hotel a f...</td>\n",
       "      <td>my husband and i have stayed in this hotel a f...</td>\n",
       "    </tr>\n",
       "    <tr>\n",
       "      <th>7</th>\n",
       "      <td>My wife &amp; I stayed in this glorious city a whi...</td>\n",
       "      <td>happy</td>\n",
       "      <td>my wife  i stayed in this glorious city a whil...</td>\n",
       "      <td>my wife  i stayed in this glorious city a whil...</td>\n",
       "    </tr>\n",
       "    <tr>\n",
       "      <th>8</th>\n",
       "      <td>My boyfriend and I stayed at the Fairmont on a...</td>\n",
       "      <td>happy</td>\n",
       "      <td>my boyfriend and i stayed at the fairmont on a...</td>\n",
       "      <td>my boyfriend and i stayed at the fairmont on a...</td>\n",
       "    </tr>\n",
       "    <tr>\n",
       "      <th>9</th>\n",
       "      <td>Wonderful staff, great location, but it was de...</td>\n",
       "      <td>not happy</td>\n",
       "      <td>wonderful staff great location but it was defi...</td>\n",
       "      <td>wonderful staff great location but it was defi...</td>\n",
       "    </tr>\n",
       "  </tbody>\n",
       "</table>\n",
       "</div>"
      ],
      "text/plain": [
       "                                         Description Is_Response  \\\n",
       "0  The room was kind of clean but had a VERY stro...   not happy   \n",
       "1  I stayed at the Crown Plaza April -- - April -...   not happy   \n",
       "2  I booked this hotel through Hotwire at the low...   not happy   \n",
       "3  Stayed here with husband and sons on the way t...       happy   \n",
       "4  My girlfriends and I stayed here to celebrate ...   not happy   \n",
       "5  We had - rooms. One was very nice and clearly ...       happy   \n",
       "6  My husband and I have stayed in this hotel a f...   not happy   \n",
       "7  My wife & I stayed in this glorious city a whi...       happy   \n",
       "8  My boyfriend and I stayed at the Fairmont on a...       happy   \n",
       "9  Wonderful staff, great location, but it was de...   not happy   \n",
       "\n",
       "                                 cleaned_description  \\\n",
       "0  the room was kind of clean but had a very stro...   \n",
       "1  i stayed at the crown plaza april   april   th...   \n",
       "2  i booked this hotel through hotwire at the low...   \n",
       "3  stayed here with husband and sons on the way t...   \n",
       "4  my girlfriends and i stayed here to celebrate ...   \n",
       "5  we had  rooms one was very nice and clearly ha...   \n",
       "6  my husband and i have stayed in this hotel a f...   \n",
       "7  my wife  i stayed in this glorious city a whil...   \n",
       "8  my boyfriend and i stayed at the fairmont on a...   \n",
       "9  wonderful staff great location but it was defi...   \n",
       "\n",
       "                             cleaned_description_new  \n",
       "0  the room was kind of clean but had a very stro...  \n",
       "1  i stayed at the crown plaza april   april   th...  \n",
       "2  i booked this hotel through hotwire at the low...  \n",
       "3  stayed here with husband and sons on the way t...  \n",
       "4  my girlfriends and i stayed here to celebrate ...  \n",
       "5  we had  rooms one was very nice and clearly ha...  \n",
       "6  my husband and i have stayed in this hotel a f...  \n",
       "7  my wife  i stayed in this glorious city a whil...  \n",
       "8  my boyfriend and i stayed at the fairmont on a...  \n",
       "9  wonderful staff great location but it was defi...  "
      ]
     },
     "execution_count": 12,
     "metadata": {},
     "output_type": "execute_result"
    }
   ],
   "source": [
    "# Let's take a look at the updated text\n",
    "data['cleaned_description_new'] = pd.DataFrame(data['cleaned_description'].apply(cleaned2))\n",
    "data.head(10)"
   ]
  },
  {
   "cell_type": "code",
   "execution_count": 13,
   "metadata": {
    "colab": {
     "base_uri": "https://localhost:8080/",
     "height": 501
    },
    "id": "t4QMUdziwOP3",
    "outputId": "fa0950be-b7e0-445b-9481-af8173f00cd7"
   },
   "outputs": [
    {
     "data": {
      "text/html": [
       "<div>\n",
       "<style scoped>\n",
       "    .dataframe tbody tr th:only-of-type {\n",
       "        vertical-align: middle;\n",
       "    }\n",
       "\n",
       "    .dataframe tbody tr th {\n",
       "        vertical-align: top;\n",
       "    }\n",
       "\n",
       "    .dataframe thead th {\n",
       "        text-align: right;\n",
       "    }\n",
       "</style>\n",
       "<table border=\"1\" class=\"dataframe\">\n",
       "  <thead>\n",
       "    <tr style=\"text-align: right;\">\n",
       "      <th></th>\n",
       "      <th>Description</th>\n",
       "      <th>Is_Response</th>\n",
       "      <th>cleaned_description</th>\n",
       "      <th>cleaned_description_new</th>\n",
       "    </tr>\n",
       "  </thead>\n",
       "  <tbody>\n",
       "    <tr>\n",
       "      <th>0</th>\n",
       "      <td>The room was kind of clean but had a VERY stro...</td>\n",
       "      <td>bad review</td>\n",
       "      <td>the room was kind of clean but had a very stro...</td>\n",
       "      <td>the room was kind of clean but had a very stro...</td>\n",
       "    </tr>\n",
       "    <tr>\n",
       "      <th>1</th>\n",
       "      <td>I stayed at the Crown Plaza April -- - April -...</td>\n",
       "      <td>bad review</td>\n",
       "      <td>i stayed at the crown plaza april   april   th...</td>\n",
       "      <td>i stayed at the crown plaza april   april   th...</td>\n",
       "    </tr>\n",
       "    <tr>\n",
       "      <th>2</th>\n",
       "      <td>I booked this hotel through Hotwire at the low...</td>\n",
       "      <td>bad review</td>\n",
       "      <td>i booked this hotel through hotwire at the low...</td>\n",
       "      <td>i booked this hotel through hotwire at the low...</td>\n",
       "    </tr>\n",
       "    <tr>\n",
       "      <th>3</th>\n",
       "      <td>Stayed here with husband and sons on the way t...</td>\n",
       "      <td>good review</td>\n",
       "      <td>stayed here with husband and sons on the way t...</td>\n",
       "      <td>stayed here with husband and sons on the way t...</td>\n",
       "    </tr>\n",
       "    <tr>\n",
       "      <th>4</th>\n",
       "      <td>My girlfriends and I stayed here to celebrate ...</td>\n",
       "      <td>bad review</td>\n",
       "      <td>my girlfriends and i stayed here to celebrate ...</td>\n",
       "      <td>my girlfriends and i stayed here to celebrate ...</td>\n",
       "    </tr>\n",
       "    <tr>\n",
       "      <th>5</th>\n",
       "      <td>We had - rooms. One was very nice and clearly ...</td>\n",
       "      <td>good review</td>\n",
       "      <td>we had  rooms one was very nice and clearly ha...</td>\n",
       "      <td>we had  rooms one was very nice and clearly ha...</td>\n",
       "    </tr>\n",
       "    <tr>\n",
       "      <th>6</th>\n",
       "      <td>My husband and I have stayed in this hotel a f...</td>\n",
       "      <td>bad review</td>\n",
       "      <td>my husband and i have stayed in this hotel a f...</td>\n",
       "      <td>my husband and i have stayed in this hotel a f...</td>\n",
       "    </tr>\n",
       "    <tr>\n",
       "      <th>7</th>\n",
       "      <td>My wife &amp; I stayed in this glorious city a whi...</td>\n",
       "      <td>good review</td>\n",
       "      <td>my wife  i stayed in this glorious city a whil...</td>\n",
       "      <td>my wife  i stayed in this glorious city a whil...</td>\n",
       "    </tr>\n",
       "    <tr>\n",
       "      <th>8</th>\n",
       "      <td>My boyfriend and I stayed at the Fairmont on a...</td>\n",
       "      <td>good review</td>\n",
       "      <td>my boyfriend and i stayed at the fairmont on a...</td>\n",
       "      <td>my boyfriend and i stayed at the fairmont on a...</td>\n",
       "    </tr>\n",
       "    <tr>\n",
       "      <th>9</th>\n",
       "      <td>Wonderful staff, great location, but it was de...</td>\n",
       "      <td>bad review</td>\n",
       "      <td>wonderful staff great location but it was defi...</td>\n",
       "      <td>wonderful staff great location but it was defi...</td>\n",
       "    </tr>\n",
       "  </tbody>\n",
       "</table>\n",
       "</div>"
      ],
      "text/plain": [
       "                                         Description  Is_Response  \\\n",
       "0  The room was kind of clean but had a VERY stro...   bad review   \n",
       "1  I stayed at the Crown Plaza April -- - April -...   bad review   \n",
       "2  I booked this hotel through Hotwire at the low...   bad review   \n",
       "3  Stayed here with husband and sons on the way t...  good review   \n",
       "4  My girlfriends and I stayed here to celebrate ...   bad review   \n",
       "5  We had - rooms. One was very nice and clearly ...  good review   \n",
       "6  My husband and I have stayed in this hotel a f...   bad review   \n",
       "7  My wife & I stayed in this glorious city a whi...  good review   \n",
       "8  My boyfriend and I stayed at the Fairmont on a...  good review   \n",
       "9  Wonderful staff, great location, but it was de...   bad review   \n",
       "\n",
       "                                 cleaned_description  \\\n",
       "0  the room was kind of clean but had a very stro...   \n",
       "1  i stayed at the crown plaza april   april   th...   \n",
       "2  i booked this hotel through hotwire at the low...   \n",
       "3  stayed here with husband and sons on the way t...   \n",
       "4  my girlfriends and i stayed here to celebrate ...   \n",
       "5  we had  rooms one was very nice and clearly ha...   \n",
       "6  my husband and i have stayed in this hotel a f...   \n",
       "7  my wife  i stayed in this glorious city a whil...   \n",
       "8  my boyfriend and i stayed at the fairmont on a...   \n",
       "9  wonderful staff great location but it was defi...   \n",
       "\n",
       "                             cleaned_description_new  \n",
       "0  the room was kind of clean but had a very stro...  \n",
       "1  i stayed at the crown plaza april   april   th...  \n",
       "2  i booked this hotel through hotwire at the low...  \n",
       "3  stayed here with husband and sons on the way t...  \n",
       "4  my girlfriends and i stayed here to celebrate ...  \n",
       "5  we had  rooms one was very nice and clearly ha...  \n",
       "6  my husband and i have stayed in this hotel a f...  \n",
       "7  my wife  i stayed in this glorious city a whil...  \n",
       "8  my boyfriend and i stayed at the fairmont on a...  \n",
       "9  wonderful staff great location but it was defi...  "
      ]
     },
     "execution_count": 13,
     "metadata": {},
     "output_type": "execute_result"
    }
   ],
   "source": [
    "data['Is_Response'] = data['Is_Response'].replace({'happy': 'good review', 'not happy': 'bad review'})\n",
    "data.head(10)"
   ]
  },
  {
   "cell_type": "code",
   "execution_count": 14,
   "metadata": {
    "colab": {
     "base_uri": "https://localhost:8080/"
    },
    "id": "SFT3k5mwvOet",
    "outputId": "c5567168-659d-49a9-92a8-62a800cc8b0d"
   },
   "outputs": [
    {
     "name": "stdout",
     "output_type": "stream",
     "text": [
      "IV_train : 35038\n",
      "IV_test  : 3894\n",
      "DV_train : 35038\n",
      "DV_test  : 3894\n"
     ]
    }
   ],
   "source": [
    "#dividing the Data \n",
    "from sklearn.model_selection import train_test_split\n",
    "\n",
    "Independent_var = data.cleaned_description_new\n",
    "Dependent_var = data.Is_Response\n",
    "\n",
    "IV_train, IV_test, DV_train, DV_test = train_test_split(Independent_var, Dependent_var, test_size = 0.1, random_state = 225)\n",
    "\n",
    "print('IV_train :', len(IV_train))\n",
    "print('IV_test  :', len(IV_test))\n",
    "print('DV_train :', len(DV_train))\n",
    "print('DV_test  :', len(DV_test))"
   ]
  },
  {
   "cell_type": "code",
   "execution_count": 15,
   "metadata": {
    "id": "UhzvdU3nvRP0"
   },
   "outputs": [],
   "source": [
    "#using the Alogorithm Logistic Regresion\n",
    "from sklearn.feature_extraction.text import TfidfVectorizer\n",
    "from sklearn.linear_model import LogisticRegression\n",
    "\n",
    "tvec = TfidfVectorizer()\n",
    "clf2 = LogisticRegression(solver = \"lbfgs\")\n",
    "\n",
    "\n",
    "from sklearn.pipeline import Pipeline"
   ]
  },
  {
   "cell_type": "code",
   "execution_count": 16,
   "metadata": {
    "colab": {
     "base_uri": "https://localhost:8080/"
    },
    "id": "Il2VNeN0vTJJ",
    "outputId": "68f98bb9-20e7-4163-e303-be1e89be86af"
   },
   "outputs": [
    {
     "data": {
      "text/plain": [
       "array([[1018,  153],\n",
       "       [ 305, 2418]], dtype=int64)"
      ]
     },
     "execution_count": 16,
     "metadata": {},
     "output_type": "execute_result"
    }
   ],
   "source": [
    "model = Pipeline([('vectorizer',tvec),('classifier',clf2)])\n",
    "\n",
    "model.fit(IV_train, DV_train)\n",
    "\n",
    "\n",
    "from sklearn.metrics import confusion_matrix\n",
    "\n",
    "predictions = model.predict(IV_test)\n",
    "\n",
    "confusion_matrix(predictions, DV_test)"
   ]
  },
  {
   "cell_type": "code",
   "execution_count": 21,
   "metadata": {
    "colab": {
     "base_uri": "https://localhost:8080/"
    },
    "id": "L-9WNVeDvY9a",
    "outputId": "5688b23a-6ffe-45f7-80d5-4595de5200d1"
   },
   "outputs": [
    {
     "name": "stdout",
     "output_type": "stream",
     "text": [
      "Accuracy :  88.23831535695943\n",
      "Precision :  88.16552108210374\n",
      "Recall :  88.23831535695943\n"
     ]
    }
   ],
   "source": [
    "from sklearn.metrics import accuracy_score, precision_score, recall_score\n",
    "\n",
    "accuracy = accuracy_score(DV_test, predictions) * 100\n",
    "precision = precision_score(DV_test, predictions, average='weighted') * 100\n",
    "recall = recall_score(DV_test, predictions, average='weighted') * 100\n",
    "\n",
    "print(\"Accuracy : \", accuracy)\n",
    "print(\"Precision : \", precision)\n",
    "print(\"Recall : \", recall)"
   ]
  },
  {
   "cell_type": "code",
   "execution_count": 23,
   "metadata": {},
   "outputs": [
    {
     "data": {
      "image/png": "[encoded data removed]",
      "text/plain": [
       "<Figure size 800x600 with 1 Axes>"
      ]
     },
     "metadata": {},
     "output_type": "display_data"
    }
   ],
   "source": [
    "#Plotting the Bar Graph\n",
    "metrics = ['Accuracy', 'Precision', 'Recall']\n",
    "values = [88.23, 88.16, 88.238]   \n",
    "\n",
    "# Create a bar graph\n",
    "fig, ax = plt.subplots(figsize=(8, 6))\n",
    "bars = ax.bar(metrics, values, color=['blue', 'green', 'red'])\n",
    "\n",
    "# Add values on top of each bar\n",
    "for bar in bars:\n",
    "    height = bar.get_height()\n",
    "    ax.text(bar.get_x() + bar.get_width() / 2.0, height, f'{height:.2f}', \n",
    "            ha='center', va='bottom', fontsize=12)\n",
    "\n",
    "# Add labels and title\n",
    "ax.set_xlabel('Metrics')\n",
    "ax.set_ylabel('Score (%)')\n",
    "ax.set_title('Performance Metrics')\n",
    "ax.set_ylim(0, 100)  # Set y-axis limits from 0 to 100\n",
    "plt.grid(True, axis='y')\n",
    "\n",
    "# Show plot\n",
    "plt.show()"
   ]
  },
  {
   "cell_type": "code",
   "execution_count": 18,
   "metadata": {
    "colab": {
     "base_uri": "https://localhost:8080/"
    },
    "id": "FyRFrSxCvc88",
    "outputId": "7f333c89-f040-46a7-b44d-15e2ab405bbd"
   },
   "outputs": [
    {
     "name": "stdout",
     "output_type": "stream",
     "text": [
      "['bad review']\n"
     ]
    }
   ],
   "source": [
    "# Examples for Testing the Model\n",
    "example = [\"It is worst\"]\n",
    "result = model.predict(example)\n",
    "\n",
    "print(result)"
   ]
  },
  {
   "cell_type": "code",
   "execution_count": 19,
   "metadata": {},
   "outputs": [
    {
     "name": "stdout",
     "output_type": "stream",
     "text": [
      "['good review']\n"
     ]
    }
   ],
   "source": [
    "example = [\"Everthing is Excellent\"]\n",
    "result = model.predict(example)\n",
    "\n",
    "print(result)"
   ]
  },
  {
   "cell_type": "code",
   "execution_count": null,
   "metadata": {},
   "outputs": [],
   "source": []
  }
 ],
 "metadata": {
  "colab": {
   "provenance": []
  },
  "kernelspec": {
   "display_name": "Python 3 (ipykernel)",
   "language": "python",
   "name": "python3"
  },
  "language_info": {
   "codemirror_mode": {
    "name": "ipython",
    "version": 3
   },
   "file_extension": ".py",
   "mimetype": "text/x-python",
   "name": "python",
   "nbconvert_exporter": "python",
   "pygments_lexer": "ipython3",
   "version": "3.11.5"
  }
 },
 "nbformat": 4,
 "nbformat_minor": 1
}
